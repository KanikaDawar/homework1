{
 "cells": [
  {
   "cell_type": "code",
   "execution_count": 1,
   "metadata": {},
   "outputs": [],
   "source": [
    "import pandas as pd\n",
    "import numpy as np\n",
    "import matplotlib.pyplot as plt"
   ]
  },
  {
   "cell_type": "markdown",
   "metadata": {},
   "source": [
    "#### Reading in data"
   ]
  },
  {
   "cell_type": "code",
   "execution_count": 2,
   "metadata": {},
   "outputs": [],
   "source": [
    "online = pd.read_csv('C:/Users/Kanika/Downloads/Shutterfly Assignment/online.csv')\n",
    "order = pd.read_csv('C:/Users/Kanika/Downloads/Shutterfly Assignment/order.csv')"
   ]
  },
  {
   "cell_type": "markdown",
   "metadata": {},
   "source": [
    "#### Exploring and Understanding data"
   ]
  },
  {
   "cell_type": "code",
   "execution_count": 3,
   "metadata": {},
   "outputs": [
    {
     "data": {
      "text/html": [
       "<div>\n",
       "<style scoped>\n",
       "    .dataframe tbody tr th:only-of-type {\n",
       "        vertical-align: middle;\n",
       "    }\n",
       "\n",
       "    .dataframe tbody tr th {\n",
       "        vertical-align: top;\n",
       "    }\n",
       "\n",
       "    .dataframe thead th {\n",
       "        text-align: right;\n",
       "    }\n",
       "</style>\n",
       "<table border=\"1\" class=\"dataframe\">\n",
       "  <thead>\n",
       "    <tr style=\"text-align: right;\">\n",
       "      <th></th>\n",
       "      <th>session</th>\n",
       "      <th>visitor</th>\n",
       "      <th>dt</th>\n",
       "      <th>custno</th>\n",
       "      <th>category</th>\n",
       "      <th>event1</th>\n",
       "      <th>event2</th>\n",
       "    </tr>\n",
       "  </thead>\n",
       "  <tbody>\n",
       "    <tr>\n",
       "      <th>0</th>\n",
       "      <td>419542</td>\n",
       "      <td>140970</td>\n",
       "      <td>2016-09-16 05:03:23</td>\n",
       "      <td>3840</td>\n",
       "      <td>1</td>\n",
       "      <td>NaN</td>\n",
       "      <td>1</td>\n",
       "    </tr>\n",
       "    <tr>\n",
       "      <th>1</th>\n",
       "      <td>3030130</td>\n",
       "      <td>14501</td>\n",
       "      <td>2017-11-13 04:58:12</td>\n",
       "      <td>70400</td>\n",
       "      <td>1</td>\n",
       "      <td>NaN</td>\n",
       "      <td>1</td>\n",
       "    </tr>\n",
       "    <tr>\n",
       "      <th>2</th>\n",
       "      <td>2638740</td>\n",
       "      <td>419353</td>\n",
       "      <td>2017-05-24 16:10:38</td>\n",
       "      <td>21248</td>\n",
       "      <td>1</td>\n",
       "      <td>NaN</td>\n",
       "      <td>1</td>\n",
       "    </tr>\n",
       "    <tr>\n",
       "      <th>3</th>\n",
       "      <td>880408</td>\n",
       "      <td>90673</td>\n",
       "      <td>2017-10-28 13:42:38</td>\n",
       "      <td>39168</td>\n",
       "      <td>1</td>\n",
       "      <td>NaN</td>\n",
       "      <td>1</td>\n",
       "    </tr>\n",
       "    <tr>\n",
       "      <th>4</th>\n",
       "      <td>2612179</td>\n",
       "      <td>191542</td>\n",
       "      <td>2016-05-17 06:30:32</td>\n",
       "      <td>47616</td>\n",
       "      <td>1</td>\n",
       "      <td>NaN</td>\n",
       "      <td>1</td>\n",
       "    </tr>\n",
       "  </tbody>\n",
       "</table>\n",
       "</div>"
      ],
      "text/plain": [
       "   session  visitor                   dt  custno  category  event1  event2\n",
       "0   419542   140970  2016-09-16 05:03:23    3840         1     NaN       1\n",
       "1  3030130    14501  2017-11-13 04:58:12   70400         1     NaN       1\n",
       "2  2638740   419353  2017-05-24 16:10:38   21248         1     NaN       1\n",
       "3   880408    90673  2017-10-28 13:42:38   39168         1     NaN       1\n",
       "4  2612179   191542  2016-05-17 06:30:32   47616         1     NaN       1"
      ]
     },
     "execution_count": 3,
     "metadata": {},
     "output_type": "execute_result"
    }
   ],
   "source": [
    "online.head()"
   ]
  },
  {
   "cell_type": "code",
   "execution_count": 4,
   "metadata": {},
   "outputs": [
    {
     "data": {
      "text/html": [
       "<div>\n",
       "<style scoped>\n",
       "    .dataframe tbody tr th:only-of-type {\n",
       "        vertical-align: middle;\n",
       "    }\n",
       "\n",
       "    .dataframe tbody tr th {\n",
       "        vertical-align: top;\n",
       "    }\n",
       "\n",
       "    .dataframe thead th {\n",
       "        text-align: right;\n",
       "    }\n",
       "</style>\n",
       "<table border=\"1\" class=\"dataframe\">\n",
       "  <thead>\n",
       "    <tr style=\"text-align: right;\">\n",
       "      <th></th>\n",
       "      <th>custno</th>\n",
       "      <th>ordno</th>\n",
       "      <th>orderdate</th>\n",
       "      <th>prodcat2</th>\n",
       "      <th>prodcat1</th>\n",
       "      <th>revenue</th>\n",
       "    </tr>\n",
       "  </thead>\n",
       "  <tbody>\n",
       "    <tr>\n",
       "      <th>0</th>\n",
       "      <td>18944</td>\n",
       "      <td>64694</td>\n",
       "      <td>2016-11-27 20:57:20</td>\n",
       "      <td>NaN</td>\n",
       "      <td>1</td>\n",
       "      <td>53.30</td>\n",
       "    </tr>\n",
       "    <tr>\n",
       "      <th>1</th>\n",
       "      <td>18944</td>\n",
       "      <td>114405</td>\n",
       "      <td>2017-04-29 20:18:04</td>\n",
       "      <td>NaN</td>\n",
       "      <td>1</td>\n",
       "      <td>0.10</td>\n",
       "    </tr>\n",
       "    <tr>\n",
       "      <th>2</th>\n",
       "      <td>18944</td>\n",
       "      <td>28906</td>\n",
       "      <td>2017-04-23 21:31:03</td>\n",
       "      <td>NaN</td>\n",
       "      <td>1</td>\n",
       "      <td>141.66</td>\n",
       "    </tr>\n",
       "    <tr>\n",
       "      <th>3</th>\n",
       "      <td>36096</td>\n",
       "      <td>62681</td>\n",
       "      <td>2016-02-25 07:16:33</td>\n",
       "      <td>NaN</td>\n",
       "      <td>1</td>\n",
       "      <td>36.82</td>\n",
       "    </tr>\n",
       "    <tr>\n",
       "      <th>4</th>\n",
       "      <td>1</td>\n",
       "      <td>1</td>\n",
       "      <td>2017-06-12 08:27:59</td>\n",
       "      <td>NaN</td>\n",
       "      <td>1</td>\n",
       "      <td>8.35</td>\n",
       "    </tr>\n",
       "  </tbody>\n",
       "</table>\n",
       "</div>"
      ],
      "text/plain": [
       "   custno   ordno            orderdate  prodcat2  prodcat1  revenue\n",
       "0   18944   64694  2016-11-27 20:57:20       NaN         1    53.30\n",
       "1   18944  114405  2017-04-29 20:18:04       NaN         1     0.10\n",
       "2   18944   28906  2017-04-23 21:31:03       NaN         1   141.66\n",
       "3   36096   62681  2016-02-25 07:16:33       NaN         1    36.82\n",
       "4       1       1  2017-06-12 08:27:59       NaN         1     8.35"
      ]
     },
     "execution_count": 4,
     "metadata": {},
     "output_type": "execute_result"
    }
   ],
   "source": [
    "order.head()"
   ]
  },
  {
   "cell_type": "code",
   "execution_count": 5,
   "metadata": {},
   "outputs": [
    {
     "data": {
      "text/html": [
       "<div>\n",
       "<style scoped>\n",
       "    .dataframe tbody tr th:only-of-type {\n",
       "        vertical-align: middle;\n",
       "    }\n",
       "\n",
       "    .dataframe tbody tr th {\n",
       "        vertical-align: top;\n",
       "    }\n",
       "\n",
       "    .dataframe thead th {\n",
       "        text-align: right;\n",
       "    }\n",
       "</style>\n",
       "<table border=\"1\" class=\"dataframe\">\n",
       "  <thead>\n",
       "    <tr style=\"text-align: right;\">\n",
       "      <th></th>\n",
       "      <th>session</th>\n",
       "      <th>visitor</th>\n",
       "      <th>custno</th>\n",
       "      <th>category</th>\n",
       "      <th>event1</th>\n",
       "      <th>event2</th>\n",
       "    </tr>\n",
       "  </thead>\n",
       "  <tbody>\n",
       "    <tr>\n",
       "      <th>count</th>\n",
       "      <td>9.547740e+05</td>\n",
       "      <td>954774.000000</td>\n",
       "      <td>954774.000000</td>\n",
       "      <td>954774.000000</td>\n",
       "      <td>164928.000000</td>\n",
       "      <td>954774.000000</td>\n",
       "    </tr>\n",
       "    <tr>\n",
       "      <th>mean</th>\n",
       "      <td>1.893075e+06</td>\n",
       "      <td>246963.121538</td>\n",
       "      <td>37011.541473</td>\n",
       "      <td>2.684933</td>\n",
       "      <td>4.501576</td>\n",
       "      <td>5.666678</td>\n",
       "    </tr>\n",
       "    <tr>\n",
       "      <th>std</th>\n",
       "      <td>1.086779e+06</td>\n",
       "      <td>145929.540403</td>\n",
       "      <td>21559.691539</td>\n",
       "      <td>0.571617</td>\n",
       "      <td>3.494639</td>\n",
       "      <td>2.368242</td>\n",
       "    </tr>\n",
       "    <tr>\n",
       "      <th>min</th>\n",
       "      <td>2.000000e+00</td>\n",
       "      <td>1.000000</td>\n",
       "      <td>6.000000</td>\n",
       "      <td>1.000000</td>\n",
       "      <td>1.000000</td>\n",
       "      <td>1.000000</td>\n",
       "    </tr>\n",
       "    <tr>\n",
       "      <th>25%</th>\n",
       "      <td>9.554362e+05</td>\n",
       "      <td>125528.250000</td>\n",
       "      <td>17985.000000</td>\n",
       "      <td>2.000000</td>\n",
       "      <td>1.000000</td>\n",
       "      <td>4.000000</td>\n",
       "    </tr>\n",
       "    <tr>\n",
       "      <th>50%</th>\n",
       "      <td>1.903075e+06</td>\n",
       "      <td>252901.000000</td>\n",
       "      <td>38040.000000</td>\n",
       "      <td>3.000000</td>\n",
       "      <td>4.000000</td>\n",
       "      <td>7.000000</td>\n",
       "    </tr>\n",
       "    <tr>\n",
       "      <th>75%</th>\n",
       "      <td>2.845886e+06</td>\n",
       "      <td>377563.000000</td>\n",
       "      <td>56516.000000</td>\n",
       "      <td>3.000000</td>\n",
       "      <td>7.000000</td>\n",
       "      <td>7.000000</td>\n",
       "    </tr>\n",
       "    <tr>\n",
       "      <th>max</th>\n",
       "      <td>3.750761e+06</td>\n",
       "      <td>505850.000000</td>\n",
       "      <td>71427.000000</td>\n",
       "      <td>3.000000</td>\n",
       "      <td>11.000000</td>\n",
       "      <td>10.000000</td>\n",
       "    </tr>\n",
       "  </tbody>\n",
       "</table>\n",
       "</div>"
      ],
      "text/plain": [
       "            session        visitor         custno       category  \\\n",
       "count  9.547740e+05  954774.000000  954774.000000  954774.000000   \n",
       "mean   1.893075e+06  246963.121538   37011.541473       2.684933   \n",
       "std    1.086779e+06  145929.540403   21559.691539       0.571617   \n",
       "min    2.000000e+00       1.000000       6.000000       1.000000   \n",
       "25%    9.554362e+05  125528.250000   17985.000000       2.000000   \n",
       "50%    1.903075e+06  252901.000000   38040.000000       3.000000   \n",
       "75%    2.845886e+06  377563.000000   56516.000000       3.000000   \n",
       "max    3.750761e+06  505850.000000   71427.000000       3.000000   \n",
       "\n",
       "              event1         event2  \n",
       "count  164928.000000  954774.000000  \n",
       "mean        4.501576       5.666678  \n",
       "std         3.494639       2.368242  \n",
       "min         1.000000       1.000000  \n",
       "25%         1.000000       4.000000  \n",
       "50%         4.000000       7.000000  \n",
       "75%         7.000000       7.000000  \n",
       "max        11.000000      10.000000  "
      ]
     },
     "execution_count": 5,
     "metadata": {},
     "output_type": "execute_result"
    }
   ],
   "source": [
    "online.describe()"
   ]
  },
  {
   "cell_type": "code",
   "execution_count": 6,
   "metadata": {},
   "outputs": [
    {
     "data": {
      "text/html": [
       "<div>\n",
       "<style scoped>\n",
       "    .dataframe tbody tr th:only-of-type {\n",
       "        vertical-align: middle;\n",
       "    }\n",
       "\n",
       "    .dataframe tbody tr th {\n",
       "        vertical-align: top;\n",
       "    }\n",
       "\n",
       "    .dataframe thead th {\n",
       "        text-align: right;\n",
       "    }\n",
       "</style>\n",
       "<table border=\"1\" class=\"dataframe\">\n",
       "  <thead>\n",
       "    <tr style=\"text-align: right;\">\n",
       "      <th></th>\n",
       "      <th>custno</th>\n",
       "      <th>ordno</th>\n",
       "      <th>prodcat2</th>\n",
       "      <th>prodcat1</th>\n",
       "      <th>revenue</th>\n",
       "    </tr>\n",
       "  </thead>\n",
       "  <tbody>\n",
       "    <tr>\n",
       "      <th>count</th>\n",
       "      <td>263278.000000</td>\n",
       "      <td>263278.000000</td>\n",
       "      <td>261455.000000</td>\n",
       "      <td>263278.000000</td>\n",
       "      <td>263278.000000</td>\n",
       "    </tr>\n",
       "    <tr>\n",
       "      <th>mean</th>\n",
       "      <td>19244.733855</td>\n",
       "      <td>64173.395620</td>\n",
       "      <td>37.384330</td>\n",
       "      <td>2.920924</td>\n",
       "      <td>74.939302</td>\n",
       "    </tr>\n",
       "    <tr>\n",
       "      <th>std</th>\n",
       "      <td>19414.103037</td>\n",
       "      <td>43064.595961</td>\n",
       "      <td>44.639098</td>\n",
       "      <td>1.696565</td>\n",
       "      <td>43.277175</td>\n",
       "    </tr>\n",
       "    <tr>\n",
       "      <th>min</th>\n",
       "      <td>1.000000</td>\n",
       "      <td>1.000000</td>\n",
       "      <td>2.000000</td>\n",
       "      <td>1.000000</td>\n",
       "      <td>0.000000</td>\n",
       "    </tr>\n",
       "    <tr>\n",
       "      <th>25%</th>\n",
       "      <td>3438.000000</td>\n",
       "      <td>26505.000000</td>\n",
       "      <td>5.000000</td>\n",
       "      <td>2.000000</td>\n",
       "      <td>37.430000</td>\n",
       "    </tr>\n",
       "    <tr>\n",
       "      <th>50%</th>\n",
       "      <td>11389.500000</td>\n",
       "      <td>59040.500000</td>\n",
       "      <td>16.000000</td>\n",
       "      <td>2.000000</td>\n",
       "      <td>74.930000</td>\n",
       "    </tr>\n",
       "    <tr>\n",
       "      <th>75%</th>\n",
       "      <td>31459.000000</td>\n",
       "      <td>98340.750000</td>\n",
       "      <td>58.000000</td>\n",
       "      <td>4.000000</td>\n",
       "      <td>112.280000</td>\n",
       "    </tr>\n",
       "    <tr>\n",
       "      <th>max</th>\n",
       "      <td>71427.000000</td>\n",
       "      <td>154405.000000</td>\n",
       "      <td>263.000000</td>\n",
       "      <td>7.000000</td>\n",
       "      <td>150.000000</td>\n",
       "    </tr>\n",
       "  </tbody>\n",
       "</table>\n",
       "</div>"
      ],
      "text/plain": [
       "              custno          ordno       prodcat2       prodcat1  \\\n",
       "count  263278.000000  263278.000000  261455.000000  263278.000000   \n",
       "mean    19244.733855   64173.395620      37.384330       2.920924   \n",
       "std     19414.103037   43064.595961      44.639098       1.696565   \n",
       "min         1.000000       1.000000       2.000000       1.000000   \n",
       "25%      3438.000000   26505.000000       5.000000       2.000000   \n",
       "50%     11389.500000   59040.500000      16.000000       2.000000   \n",
       "75%     31459.000000   98340.750000      58.000000       4.000000   \n",
       "max     71427.000000  154405.000000     263.000000       7.000000   \n",
       "\n",
       "             revenue  \n",
       "count  263278.000000  \n",
       "mean       74.939302  \n",
       "std        43.277175  \n",
       "min         0.000000  \n",
       "25%        37.430000  \n",
       "50%        74.930000  \n",
       "75%       112.280000  \n",
       "max       150.000000  "
      ]
     },
     "execution_count": 6,
     "metadata": {},
     "output_type": "execute_result"
    }
   ],
   "source": [
    "order.describe()"
   ]
  },
  {
   "cell_type": "code",
   "execution_count": 7,
   "metadata": {},
   "outputs": [
    {
     "data": {
      "text/plain": [
       "session          0\n",
       "visitor          0\n",
       "dt               0\n",
       "custno           0\n",
       "category         0\n",
       "event1      789846\n",
       "event2           0\n",
       "dtype: int64"
      ]
     },
     "execution_count": 7,
     "metadata": {},
     "output_type": "execute_result"
    }
   ],
   "source": [
    "# checking if there are any missing values\n",
    "online.isnull().sum(axis = 0)"
   ]
  },
  {
   "cell_type": "code",
   "execution_count": 8,
   "metadata": {},
   "outputs": [
    {
     "data": {
      "text/plain": [
       "custno          0\n",
       "ordno           0\n",
       "orderdate       0\n",
       "prodcat2     1823\n",
       "prodcat1        0\n",
       "revenue         0\n",
       "dtype: int64"
      ]
     },
     "execution_count": 8,
     "metadata": {},
     "output_type": "execute_result"
    }
   ],
   "source": [
    "# checking if there are any missing values\n",
    "order.isnull().sum(axis = 0)"
   ]
  },
  {
   "cell_type": "code",
   "execution_count": 9,
   "metadata": {},
   "outputs": [
    {
     "data": {
      "text/plain": [
       "149717"
      ]
     },
     "execution_count": 9,
     "metadata": {},
     "output_type": "execute_result"
    }
   ],
   "source": [
    "len(order.ordno.unique())"
   ]
  },
  {
   "cell_type": "code",
   "execution_count": 10,
   "metadata": {},
   "outputs": [
    {
     "data": {
      "text/plain": [
       "70264"
      ]
     },
     "execution_count": 10,
     "metadata": {},
     "output_type": "execute_result"
    }
   ],
   "source": [
    "len(order.custno.unique())"
   ]
  },
  {
   "cell_type": "code",
   "execution_count": 11,
   "metadata": {},
   "outputs": [
    {
     "data": {
      "text/plain": [
       "57584"
      ]
     },
     "execution_count": 11,
     "metadata": {},
     "output_type": "execute_result"
    }
   ],
   "source": [
    "len(online.custno.unique())"
   ]
  },
  {
   "cell_type": "code",
   "execution_count": 12,
   "metadata": {},
   "outputs": [
    {
     "data": {
      "text/plain": [
       "'2016-01-01 05:05:14'"
      ]
     },
     "execution_count": 12,
     "metadata": {},
     "output_type": "execute_result"
    }
   ],
   "source": [
    "order['orderdate'].min()"
   ]
  },
  {
   "cell_type": "code",
   "execution_count": 13,
   "metadata": {},
   "outputs": [
    {
     "data": {
      "text/plain": [
       "'2019-01-02 23:54:58'"
      ]
     },
     "execution_count": 13,
     "metadata": {},
     "output_type": "execute_result"
    }
   ],
   "source": [
    "order['orderdate'].max()"
   ]
  },
  {
   "cell_type": "markdown",
   "metadata": {},
   "source": [
    "* There are a total of 954,774 session according to online data\n",
    "* There are a total of 263,278 orders according to order data\n",
    "* We also see that not all orders are unique, and there exist only 149717 unique orders inplying different products are in different rows of the data\n",
    "* There are a total of 70,264 unique customers who have ordered whereas 57,584 customers who have had an online session\n",
    "* We observe that majority of event1 in the online data is NaN and some of prodcat2 is missing for some of the order data"
   ]
  },
  {
   "cell_type": "code",
   "execution_count": 14,
   "metadata": {},
   "outputs": [],
   "source": [
    "# converting to pandas datetime format\n",
    "order['orderdate'] = pd.to_datetime(order['orderdate'])\n",
    "online['dt'] = pd.to_datetime(online['dt'])"
   ]
  },
  {
   "cell_type": "markdown",
   "metadata": {},
   "source": [
    "#### Feature engineering"
   ]
  },
  {
   "cell_type": "code",
   "execution_count": 15,
   "metadata": {},
   "outputs": [],
   "source": [
    "# Extracting day, hour from the data into separate columns to do time of day and day of week analysis\n",
    "\n",
    "online['month'] = pd.DatetimeIndex(online['dt']).month\n",
    "online['week'] = pd.DatetimeIndex(online['dt']).week\n",
    "online['day'] = pd.DatetimeIndex(online['dt']).weekday\n",
    "online['hour'] = pd.DatetimeIndex(online['dt']).hour"
   ]
  },
  {
   "cell_type": "code",
   "execution_count": 16,
   "metadata": {},
   "outputs": [
    {
     "data": {
      "text/html": [
       "<div>\n",
       "<style scoped>\n",
       "    .dataframe tbody tr th:only-of-type {\n",
       "        vertical-align: middle;\n",
       "    }\n",
       "\n",
       "    .dataframe tbody tr th {\n",
       "        vertical-align: top;\n",
       "    }\n",
       "\n",
       "    .dataframe thead th {\n",
       "        text-align: right;\n",
       "    }\n",
       "</style>\n",
       "<table border=\"1\" class=\"dataframe\">\n",
       "  <thead>\n",
       "    <tr style=\"text-align: right;\">\n",
       "      <th></th>\n",
       "      <th>session</th>\n",
       "      <th>visitor</th>\n",
       "      <th>dt</th>\n",
       "      <th>custno</th>\n",
       "      <th>category</th>\n",
       "      <th>event1</th>\n",
       "      <th>event2</th>\n",
       "      <th>month</th>\n",
       "      <th>week</th>\n",
       "      <th>day</th>\n",
       "      <th>hour</th>\n",
       "    </tr>\n",
       "  </thead>\n",
       "  <tbody>\n",
       "    <tr>\n",
       "      <th>0</th>\n",
       "      <td>419542</td>\n",
       "      <td>140970</td>\n",
       "      <td>2016-09-16 05:03:23</td>\n",
       "      <td>3840</td>\n",
       "      <td>1</td>\n",
       "      <td>NaN</td>\n",
       "      <td>1</td>\n",
       "      <td>9</td>\n",
       "      <td>37</td>\n",
       "      <td>4</td>\n",
       "      <td>5</td>\n",
       "    </tr>\n",
       "    <tr>\n",
       "      <th>1</th>\n",
       "      <td>3030130</td>\n",
       "      <td>14501</td>\n",
       "      <td>2017-11-13 04:58:12</td>\n",
       "      <td>70400</td>\n",
       "      <td>1</td>\n",
       "      <td>NaN</td>\n",
       "      <td>1</td>\n",
       "      <td>11</td>\n",
       "      <td>46</td>\n",
       "      <td>0</td>\n",
       "      <td>4</td>\n",
       "    </tr>\n",
       "    <tr>\n",
       "      <th>2</th>\n",
       "      <td>2638740</td>\n",
       "      <td>419353</td>\n",
       "      <td>2017-05-24 16:10:38</td>\n",
       "      <td>21248</td>\n",
       "      <td>1</td>\n",
       "      <td>NaN</td>\n",
       "      <td>1</td>\n",
       "      <td>5</td>\n",
       "      <td>21</td>\n",
       "      <td>2</td>\n",
       "      <td>16</td>\n",
       "    </tr>\n",
       "    <tr>\n",
       "      <th>3</th>\n",
       "      <td>880408</td>\n",
       "      <td>90673</td>\n",
       "      <td>2017-10-28 13:42:38</td>\n",
       "      <td>39168</td>\n",
       "      <td>1</td>\n",
       "      <td>NaN</td>\n",
       "      <td>1</td>\n",
       "      <td>10</td>\n",
       "      <td>43</td>\n",
       "      <td>5</td>\n",
       "      <td>13</td>\n",
       "    </tr>\n",
       "    <tr>\n",
       "      <th>4</th>\n",
       "      <td>2612179</td>\n",
       "      <td>191542</td>\n",
       "      <td>2016-05-17 06:30:32</td>\n",
       "      <td>47616</td>\n",
       "      <td>1</td>\n",
       "      <td>NaN</td>\n",
       "      <td>1</td>\n",
       "      <td>5</td>\n",
       "      <td>20</td>\n",
       "      <td>1</td>\n",
       "      <td>6</td>\n",
       "    </tr>\n",
       "  </tbody>\n",
       "</table>\n",
       "</div>"
      ],
      "text/plain": [
       "   session  visitor                  dt  custno  category  event1  event2  \\\n",
       "0   419542   140970 2016-09-16 05:03:23    3840         1     NaN       1   \n",
       "1  3030130    14501 2017-11-13 04:58:12   70400         1     NaN       1   \n",
       "2  2638740   419353 2017-05-24 16:10:38   21248         1     NaN       1   \n",
       "3   880408    90673 2017-10-28 13:42:38   39168         1     NaN       1   \n",
       "4  2612179   191542 2016-05-17 06:30:32   47616         1     NaN       1   \n",
       "\n",
       "   month  week  day  hour  \n",
       "0      9    37    4     5  \n",
       "1     11    46    0     4  \n",
       "2      5    21    2    16  \n",
       "3     10    43    5    13  \n",
       "4      5    20    1     6  "
      ]
     },
     "execution_count": 16,
     "metadata": {},
     "output_type": "execute_result"
    }
   ],
   "source": [
    "online.head()"
   ]
  },
  {
   "cell_type": "code",
   "execution_count": 17,
   "metadata": {},
   "outputs": [],
   "source": [
    "# Extracting day, hour from the data into separate columns to do time of day and day of week analysis\n",
    "\n",
    "order['month'] = pd.DatetimeIndex(order['orderdate']).month\n",
    "order['week'] = pd.DatetimeIndex(order['orderdate']).week\n",
    "order['day'] = pd.DatetimeIndex(order['orderdate']).weekday\n",
    "order['hour'] = pd.DatetimeIndex(order['orderdate']).hour"
   ]
  },
  {
   "cell_type": "code",
   "execution_count": 18,
   "metadata": {},
   "outputs": [
    {
     "data": {
      "text/html": [
       "<div>\n",
       "<style scoped>\n",
       "    .dataframe tbody tr th:only-of-type {\n",
       "        vertical-align: middle;\n",
       "    }\n",
       "\n",
       "    .dataframe tbody tr th {\n",
       "        vertical-align: top;\n",
       "    }\n",
       "\n",
       "    .dataframe thead th {\n",
       "        text-align: right;\n",
       "    }\n",
       "</style>\n",
       "<table border=\"1\" class=\"dataframe\">\n",
       "  <thead>\n",
       "    <tr style=\"text-align: right;\">\n",
       "      <th></th>\n",
       "      <th>custno</th>\n",
       "      <th>ordno</th>\n",
       "      <th>orderdate</th>\n",
       "      <th>prodcat2</th>\n",
       "      <th>prodcat1</th>\n",
       "      <th>revenue</th>\n",
       "      <th>month</th>\n",
       "      <th>week</th>\n",
       "      <th>day</th>\n",
       "      <th>hour</th>\n",
       "    </tr>\n",
       "  </thead>\n",
       "  <tbody>\n",
       "    <tr>\n",
       "      <th>0</th>\n",
       "      <td>18944</td>\n",
       "      <td>64694</td>\n",
       "      <td>2016-11-27 20:57:20</td>\n",
       "      <td>NaN</td>\n",
       "      <td>1</td>\n",
       "      <td>53.30</td>\n",
       "      <td>11</td>\n",
       "      <td>47</td>\n",
       "      <td>6</td>\n",
       "      <td>20</td>\n",
       "    </tr>\n",
       "    <tr>\n",
       "      <th>1</th>\n",
       "      <td>18944</td>\n",
       "      <td>114405</td>\n",
       "      <td>2017-04-29 20:18:04</td>\n",
       "      <td>NaN</td>\n",
       "      <td>1</td>\n",
       "      <td>0.10</td>\n",
       "      <td>4</td>\n",
       "      <td>17</td>\n",
       "      <td>5</td>\n",
       "      <td>20</td>\n",
       "    </tr>\n",
       "    <tr>\n",
       "      <th>2</th>\n",
       "      <td>18944</td>\n",
       "      <td>28906</td>\n",
       "      <td>2017-04-23 21:31:03</td>\n",
       "      <td>NaN</td>\n",
       "      <td>1</td>\n",
       "      <td>141.66</td>\n",
       "      <td>4</td>\n",
       "      <td>16</td>\n",
       "      <td>6</td>\n",
       "      <td>21</td>\n",
       "    </tr>\n",
       "    <tr>\n",
       "      <th>3</th>\n",
       "      <td>36096</td>\n",
       "      <td>62681</td>\n",
       "      <td>2016-02-25 07:16:33</td>\n",
       "      <td>NaN</td>\n",
       "      <td>1</td>\n",
       "      <td>36.82</td>\n",
       "      <td>2</td>\n",
       "      <td>8</td>\n",
       "      <td>3</td>\n",
       "      <td>7</td>\n",
       "    </tr>\n",
       "    <tr>\n",
       "      <th>4</th>\n",
       "      <td>1</td>\n",
       "      <td>1</td>\n",
       "      <td>2017-06-12 08:27:59</td>\n",
       "      <td>NaN</td>\n",
       "      <td>1</td>\n",
       "      <td>8.35</td>\n",
       "      <td>6</td>\n",
       "      <td>24</td>\n",
       "      <td>0</td>\n",
       "      <td>8</td>\n",
       "    </tr>\n",
       "  </tbody>\n",
       "</table>\n",
       "</div>"
      ],
      "text/plain": [
       "   custno   ordno           orderdate  prodcat2  prodcat1  revenue  month  \\\n",
       "0   18944   64694 2016-11-27 20:57:20       NaN         1    53.30     11   \n",
       "1   18944  114405 2017-04-29 20:18:04       NaN         1     0.10      4   \n",
       "2   18944   28906 2017-04-23 21:31:03       NaN         1   141.66      4   \n",
       "3   36096   62681 2016-02-25 07:16:33       NaN         1    36.82      2   \n",
       "4       1       1 2017-06-12 08:27:59       NaN         1     8.35      6   \n",
       "\n",
       "   week  day  hour  \n",
       "0    47    6    20  \n",
       "1    17    5    20  \n",
       "2    16    6    21  \n",
       "3     8    3     7  \n",
       "4    24    0     8  "
      ]
     },
     "execution_count": 18,
     "metadata": {},
     "output_type": "execute_result"
    }
   ],
   "source": [
    "order.head()"
   ]
  },
  {
   "cell_type": "code",
   "execution_count": 19,
   "metadata": {},
   "outputs": [],
   "source": [
    "mean_monthly = order.groupby(['month'])['revenue'].mean()"
   ]
  },
  {
   "cell_type": "code",
   "execution_count": 20,
   "metadata": {},
   "outputs": [],
   "source": [
    "orders_monthly = order.groupby(['month'])['ordno'].count()"
   ]
  },
  {
   "cell_type": "code",
   "execution_count": 21,
   "metadata": {},
   "outputs": [],
   "source": [
    "popular_categories = order.groupby(['prodcat1'])['ordno'].count()"
   ]
  },
  {
   "cell_type": "code",
   "execution_count": 22,
   "metadata": {},
   "outputs": [],
   "source": [
    "mean_category = order.groupby(['prodcat1'])['revenue'].mean()"
   ]
  },
  {
   "cell_type": "code",
   "execution_count": 23,
   "metadata": {},
   "outputs": [],
   "source": [
    "category_seasonality_revenue = order.groupby(['month', 'prodcat1'])['revenue'].sum()"
   ]
  },
  {
   "cell_type": "code",
   "execution_count": 24,
   "metadata": {},
   "outputs": [],
   "source": [
    "time_of_day = order.groupby(['hour'])['revenue'].sum()\n",
    "day_of_week = order.groupby(['day'])['revenue'].sum()\n",
    "week_of_month = order.groupby(['week'])['revenue'].sum()"
   ]
  },
  {
   "cell_type": "code",
   "execution_count": 25,
   "metadata": {},
   "outputs": [],
   "source": [
    "time_of_day_s = online.groupby(['hour'])['session'].count()\n",
    "day_of_week_s = online.groupby(['day'])['session'].count()\n",
    "week_of_month_s = online.groupby(['week'])['session'].count()"
   ]
  },
  {
   "cell_type": "code",
   "execution_count": 26,
   "metadata": {},
   "outputs": [
    {
     "data": {
      "text/plain": [
       "<Figure size 720x288 with 0 Axes>"
      ]
     },
     "metadata": {},
     "output_type": "display_data"
    },
    {
     "data": {
      "image/png": "[encoded data removed]",
      "text/plain": [
       "<Figure size 432x288 with 2 Axes>"
      ]
     },
     "metadata": {},
     "output_type": "display_data"
    },
    {
     "data": {
      "image/png": "[encoded data removed]",
      "text/plain": [
       "<Figure size 432x288 with 2 Axes>"
      ]
     },
     "metadata": {},
     "output_type": "display_data"
    }
   ],
   "source": [
    "plt.figure(figsize = (10, 4))\n",
    "fig, ax1 = plt.subplots()\n",
    "ax1.plot(mean_monthly, 'bo-', label = 'Revenue')\n",
    "ax1.set_ylabel('Avg revenue/product')\n",
    "ax1.set_xlabel('Month')\n",
    "ax2 = ax1.twinx()\n",
    "ax2.plot(orders_monthly, 'ro-', label = 'Qty')\n",
    "ax2.set_ylabel('Qty')\n",
    "ax1.legend(['Avg rev/product'], loc='upper left')\n",
    "ax2.legend(['Qty'], loc='upper right')\n",
    "fig.tight_layout()\n",
    "plt.show()\n",
    "\n",
    "fig, ax1 = plt.subplots()\n",
    "ax1.plot(mean_category, 'bo-', label = 'Revenue')\n",
    "ax1.set_ylabel('Avg revenue/product')\n",
    "ax1.set_xlabel('Category')\n",
    "ax2 = ax1.twinx()\n",
    "ax2.plot(popular_categories, 'ro-', label = 'Qty')\n",
    "ax2.set_ylabel('Qty')\n",
    "ax1.legend(['Avg rev/product'], loc='upper left')\n",
    "ax2.legend(['Qty'], loc='upper right')\n",
    "fig.tight_layout()\n",
    "plt.show()"
   ]
  },
  {
   "cell_type": "code",
   "execution_count": 27,
   "metadata": {},
   "outputs": [
    {
     "data": {
      "text/plain": [
       "<Figure size 720x288 with 0 Axes>"
      ]
     },
     "metadata": {},
     "output_type": "display_data"
    },
    {
     "data": {
      "image/png": "[encoded data removed]",
      "text/plain": [
       "<Figure size 432x288 with 2 Axes>"
      ]
     },
     "metadata": {},
     "output_type": "display_data"
    },
    {
     "data": {
      "image/png": "[encoded data removed]",
      "text/plain": [
       "<Figure size 432x288 with 2 Axes>"
      ]
     },
     "metadata": {},
     "output_type": "display_data"
    },
    {
     "data": {
      "image/png": "[encoded data removed]",
      "text/plain": [
       "<Figure size 432x288 with 2 Axes>"
      ]
     },
     "metadata": {},
     "output_type": "display_data"
    }
   ],
   "source": [
    "plt.figure(figsize = (10, 4))\n",
    "fig, ax1 = plt.subplots()\n",
    "ax1.plot(time_of_day, 'bo-', label = 'Revenue')\n",
    "ax1.set_ylabel('Revenue')\n",
    "ax1.set_xlabel('Time of Day')\n",
    "ax2 = ax1.twinx()\n",
    "ax2.plot(time_of_day_s, 'ro-', label = 'Qty')\n",
    "ax2.set_ylabel('Sessions')\n",
    "ax1.legend(['Revenue'], loc='upper left')\n",
    "ax2.legend(['Sessions'], loc='upper right')\n",
    "fig.tight_layout()\n",
    "plt.show()\n",
    "\n",
    "fig, ax1 = plt.subplots()\n",
    "ax1.plot(day_of_week, 'bo-', label = 'Revenue')\n",
    "ax1.set_ylabel('Revenue')\n",
    "ax1.set_xlabel('Day of Week')\n",
    "ax2 = ax1.twinx()\n",
    "ax2.plot(day_of_week_s, 'ro-', label = 'Qty')\n",
    "ax2.set_ylabel('Sessions')\n",
    "ax1.legend(['Revenue'], loc='upper left')\n",
    "ax2.legend(['Sessions'], loc='upper right')\n",
    "fig.tight_layout()\n",
    "plt.show()\n",
    "\n",
    "fig, ax1 = plt.subplots()\n",
    "ax1.plot(week_of_month, 'bo-', label = 'Revenue')\n",
    "ax1.set_ylabel('Revenue')\n",
    "ax1.set_xlabel('Week of Year')\n",
    "ax2 = ax1.twinx()\n",
    "ax2.plot(week_of_month_s, 'ro-', label = 'Qty')\n",
    "ax2.set_ylabel('Sessions')\n",
    "ax1.legend(['Revenue'], loc='upper left')\n",
    "ax2.legend(['Sessions'], loc='upper right')\n",
    "fig.tight_layout()\n",
    "plt.show()"
   ]
  },
  {
   "cell_type": "markdown",
   "metadata": {},
   "source": [
    "* We observe that during certain months, even though the total quantity decreases, the average revenue per product increases meaning relatively more expensive products were bought during those months and vice-versa\n",
    "* We also notice that product no 5 was bought the least but has the maximum average prices"
   ]
  },
  {
   "cell_type": "markdown",
   "metadata": {},
   "source": [
    "* We see that the revenue and the no of sessions peak almost at the same time, with revenue following sessions with a minor lag implying people search and eventually buy the product\n",
    "* The most common time to buy is in the evening\n",
    "* Weekends observe more purchases than weekdays\n",
    "* Week of the year has a trend element to it (Probably because of more purchases in the last week of each month)\n",
    "* Also we can see seasonlity in the week of year towards the end and beginning of year"
   ]
  },
  {
   "cell_type": "markdown",
   "metadata": {},
   "source": [
    "### Feature Engineering\n",
    "* Let us also calculate the number of sessions (visits), lag for each purchase, and revenue each customer had on the website"
   ]
  },
  {
   "cell_type": "code",
   "execution_count": 28,
   "metadata": {},
   "outputs": [],
   "source": [
    "session_count = pd.DataFrame(online.groupby(['custno'])['session'].count())"
   ]
  },
  {
   "cell_type": "markdown",
   "metadata": {},
   "source": [
    "#### RFM features"
   ]
  },
  {
   "cell_type": "code",
   "execution_count": 29,
   "metadata": {},
   "outputs": [],
   "source": [
    "import sqlite3\n",
    "\n",
    "#Make the db\n",
    "db = sqlite3.connect(\"./shuttetfly.db\")\n",
    "#write the tables\n",
    "order.to_sql('order1', db, if_exists = 'replace', index=False)\n",
    "online.to_sql('online', db, if_exists = 'replace', index=False)"
   ]
  },
  {
   "cell_type": "code",
   "execution_count": 30,
   "metadata": {},
   "outputs": [
    {
     "data": {
      "text/html": [
       "<div>\n",
       "<style scoped>\n",
       "    .dataframe tbody tr th:only-of-type {\n",
       "        vertical-align: middle;\n",
       "    }\n",
       "\n",
       "    .dataframe tbody tr th {\n",
       "        vertical-align: top;\n",
       "    }\n",
       "\n",
       "    .dataframe thead th {\n",
       "        text-align: right;\n",
       "    }\n",
       "</style>\n",
       "<table border=\"1\" class=\"dataframe\">\n",
       "  <thead>\n",
       "    <tr style=\"text-align: right;\">\n",
       "      <th></th>\n",
       "      <th>custno</th>\n",
       "      <th>orderdate</th>\n",
       "      <th>revenue</th>\n",
       "      <th>session_time</th>\n",
       "      <th>no_of_products</th>\n",
       "    </tr>\n",
       "  </thead>\n",
       "  <tbody>\n",
       "    <tr>\n",
       "      <th>124215</th>\n",
       "      <td>71420</td>\n",
       "      <td>2016-09-11 13:34:10</td>\n",
       "      <td>118.83</td>\n",
       "      <td>2016-09-10 18:45:11</td>\n",
       "      <td>1</td>\n",
       "    </tr>\n",
       "    <tr>\n",
       "      <th>124216</th>\n",
       "      <td>71423</td>\n",
       "      <td>2018-02-19 19:15:47</td>\n",
       "      <td>670.65</td>\n",
       "      <td>2017-04-10 15:54:06</td>\n",
       "      <td>5</td>\n",
       "    </tr>\n",
       "    <tr>\n",
       "      <th>124217</th>\n",
       "      <td>71424</td>\n",
       "      <td>2017-05-22 18:11:18</td>\n",
       "      <td>297.78</td>\n",
       "      <td>2017-05-19 13:55:00</td>\n",
       "      <td>6</td>\n",
       "    </tr>\n",
       "    <tr>\n",
       "      <th>124218</th>\n",
       "      <td>71426</td>\n",
       "      <td>2016-04-12 23:30:23</td>\n",
       "      <td>203.10</td>\n",
       "      <td>2016-04-12 22:02:02</td>\n",
       "      <td>6</td>\n",
       "    </tr>\n",
       "    <tr>\n",
       "      <th>124219</th>\n",
       "      <td>71427</td>\n",
       "      <td>2019-01-01 15:44:24</td>\n",
       "      <td>281.92</td>\n",
       "      <td>2017-12-10 08:24:04</td>\n",
       "      <td>2</td>\n",
       "    </tr>\n",
       "  </tbody>\n",
       "</table>\n",
       "</div>"
      ],
      "text/plain": [
       "        custno            orderdate  revenue         session_time  \\\n",
       "124215   71420  2016-09-11 13:34:10   118.83  2016-09-10 18:45:11   \n",
       "124216   71423  2018-02-19 19:15:47   670.65  2017-04-10 15:54:06   \n",
       "124217   71424  2017-05-22 18:11:18   297.78  2017-05-19 13:55:00   \n",
       "124218   71426  2016-04-12 23:30:23   203.10  2016-04-12 22:02:02   \n",
       "124219   71427  2019-01-01 15:44:24   281.92  2017-12-10 08:24:04   \n",
       "\n",
       "        no_of_products  \n",
       "124215               1  \n",
       "124216               5  \n",
       "124217               6  \n",
       "124218               6  \n",
       "124219               2  "
      ]
     },
     "execution_count": 30,
     "metadata": {},
     "output_type": "execute_result"
    }
   ],
   "source": [
    "sql_raw = \"\"\"\n",
    "select a.custno, a.orderdate, sum(revenue) as revenue, max(b.dt) as session_time, count(*) as no_of_products\n",
    "from order1 a\n",
    "join online b\n",
    "on a.custno=b.custno\n",
    "and a.orderdate >= b.dt\n",
    "group by a.custno, a.orderdate\n",
    "\"\"\"\n",
    "time_lag = pd.read_sql(sql_raw, db)\n",
    "time_lag.to_sql('time_lag', db, if_exists='replace')\n",
    "time_lag.tail()"
   ]
  },
  {
   "cell_type": "code",
   "execution_count": 31,
   "metadata": {},
   "outputs": [
    {
     "data": {
      "text/html": [
       "<div>\n",
       "<style scoped>\n",
       "    .dataframe tbody tr th:only-of-type {\n",
       "        vertical-align: middle;\n",
       "    }\n",
       "\n",
       "    .dataframe tbody tr th {\n",
       "        vertical-align: top;\n",
       "    }\n",
       "\n",
       "    .dataframe thead th {\n",
       "        text-align: right;\n",
       "    }\n",
       "</style>\n",
       "<table border=\"1\" class=\"dataframe\">\n",
       "  <thead>\n",
       "    <tr style=\"text-align: right;\">\n",
       "      <th></th>\n",
       "      <th>custno</th>\n",
       "      <th>orderdate</th>\n",
       "      <th>revenue</th>\n",
       "      <th>no_of_products</th>\n",
       "      <th>time_lag_minutes</th>\n",
       "    </tr>\n",
       "  </thead>\n",
       "  <tbody>\n",
       "    <tr>\n",
       "      <th>124215</th>\n",
       "      <td>71420</td>\n",
       "      <td>2016-09-11 13:34:10</td>\n",
       "      <td>118.83</td>\n",
       "      <td>1</td>\n",
       "      <td>1128.983334</td>\n",
       "    </tr>\n",
       "    <tr>\n",
       "      <th>124216</th>\n",
       "      <td>71423</td>\n",
       "      <td>2018-02-19 19:15:47</td>\n",
       "      <td>670.65</td>\n",
       "      <td>5</td>\n",
       "      <td>453801.683333</td>\n",
       "    </tr>\n",
       "    <tr>\n",
       "      <th>124217</th>\n",
       "      <td>71424</td>\n",
       "      <td>2017-05-22 18:11:18</td>\n",
       "      <td>297.78</td>\n",
       "      <td>6</td>\n",
       "      <td>4576.300000</td>\n",
       "    </tr>\n",
       "    <tr>\n",
       "      <th>124218</th>\n",
       "      <td>71426</td>\n",
       "      <td>2016-04-12 23:30:23</td>\n",
       "      <td>203.10</td>\n",
       "      <td>6</td>\n",
       "      <td>88.350000</td>\n",
       "    </tr>\n",
       "    <tr>\n",
       "      <th>124219</th>\n",
       "      <td>71427</td>\n",
       "      <td>2019-01-01 15:44:24</td>\n",
       "      <td>281.92</td>\n",
       "      <td>2</td>\n",
       "      <td>557720.333333</td>\n",
       "    </tr>\n",
       "  </tbody>\n",
       "</table>\n",
       "</div>"
      ],
      "text/plain": [
       "        custno            orderdate  revenue  no_of_products  time_lag_minutes\n",
       "124215   71420  2016-09-11 13:34:10   118.83               1       1128.983334\n",
       "124216   71423  2018-02-19 19:15:47   670.65               5     453801.683333\n",
       "124217   71424  2017-05-22 18:11:18   297.78               6       4576.300000\n",
       "124218   71426  2016-04-12 23:30:23   203.10               6         88.350000\n",
       "124219   71427  2019-01-01 15:44:24   281.92               2     557720.333333"
      ]
     },
     "execution_count": 31,
     "metadata": {},
     "output_type": "execute_result"
    }
   ],
   "source": [
    "sql_raw = \"\"\"\n",
    "select custno, orderdate, revenue, no_of_products, (julianday(orderdate) - julianday(session_time))*1440 as time_lag_minutes\n",
    "from time_lag\n",
    "group by custno, orderdate\n",
    "\"\"\"\n",
    "time_lag_final = pd.read_sql(sql_raw, db)\n",
    "time_lag_final.to_sql('time_lag_final', db, if_exists='replace')\n",
    "time_lag_final.tail()"
   ]
  },
  {
   "cell_type": "markdown",
   "metadata": {},
   "source": [
    "#### Model design\n",
    "* Getting features at customer level (for customers who have had an online session as well as made a purchase)"
   ]
  },
  {
   "cell_type": "code",
   "execution_count": 32,
   "metadata": {},
   "outputs": [],
   "source": [
    "customer_features = pd.DataFrame(time_lag_final.groupby(['custno'])['revenue'].sum())\n",
    "customer_features['no_of_products'] = time_lag_final.groupby(['custno'])['no_of_products'].sum()\n",
    "customer_features['avg_lag'] = time_lag_final.groupby(['custno'])['time_lag_minutes'].mean()\n",
    "customer_features['total_purchases'] = time_lag_final.groupby(['custno'])['revenue'].count()"
   ]
  },
  {
   "cell_type": "code",
   "execution_count": 33,
   "metadata": {},
   "outputs": [
    {
     "data": {
      "text/html": [
       "<div>\n",
       "<style scoped>\n",
       "    .dataframe tbody tr th:only-of-type {\n",
       "        vertical-align: middle;\n",
       "    }\n",
       "\n",
       "    .dataframe tbody tr th {\n",
       "        vertical-align: top;\n",
       "    }\n",
       "\n",
       "    .dataframe thead th {\n",
       "        text-align: right;\n",
       "    }\n",
       "</style>\n",
       "<table border=\"1\" class=\"dataframe\">\n",
       "  <thead>\n",
       "    <tr style=\"text-align: right;\">\n",
       "      <th></th>\n",
       "      <th>revenue</th>\n",
       "      <th>no_of_products</th>\n",
       "      <th>avg_lag</th>\n",
       "      <th>total_purchases</th>\n",
       "    </tr>\n",
       "    <tr>\n",
       "      <th>custno</th>\n",
       "      <th></th>\n",
       "      <th></th>\n",
       "      <th></th>\n",
       "      <th></th>\n",
       "    </tr>\n",
       "  </thead>\n",
       "  <tbody>\n",
       "    <tr>\n",
       "      <th>71420</th>\n",
       "      <td>118.83</td>\n",
       "      <td>1</td>\n",
       "      <td>1128.983334</td>\n",
       "      <td>1</td>\n",
       "    </tr>\n",
       "    <tr>\n",
       "      <th>71423</th>\n",
       "      <td>670.65</td>\n",
       "      <td>5</td>\n",
       "      <td>453801.683333</td>\n",
       "      <td>1</td>\n",
       "    </tr>\n",
       "    <tr>\n",
       "      <th>71424</th>\n",
       "      <td>297.78</td>\n",
       "      <td>6</td>\n",
       "      <td>4576.300000</td>\n",
       "      <td>1</td>\n",
       "    </tr>\n",
       "    <tr>\n",
       "      <th>71426</th>\n",
       "      <td>203.10</td>\n",
       "      <td>6</td>\n",
       "      <td>88.350000</td>\n",
       "      <td>1</td>\n",
       "    </tr>\n",
       "    <tr>\n",
       "      <th>71427</th>\n",
       "      <td>281.92</td>\n",
       "      <td>2</td>\n",
       "      <td>557720.333333</td>\n",
       "      <td>1</td>\n",
       "    </tr>\n",
       "  </tbody>\n",
       "</table>\n",
       "</div>"
      ],
      "text/plain": [
       "        revenue  no_of_products        avg_lag  total_purchases\n",
       "custno                                                         \n",
       "71420    118.83               1    1128.983334                1\n",
       "71423    670.65               5  453801.683333                1\n",
       "71424    297.78               6    4576.300000                1\n",
       "71426    203.10               6      88.350000                1\n",
       "71427    281.92               2  557720.333333                1"
      ]
     },
     "execution_count": 33,
     "metadata": {},
     "output_type": "execute_result"
    }
   ],
   "source": [
    "customer_features.tail()"
   ]
  },
  {
   "cell_type": "markdown",
   "metadata": {},
   "source": [
    "#### Dividing customers into 8 clusters of\n",
    "\n",
    "* low lag high revenue high frequency\n",
    "* high lag high revenue high frequency\n",
    "* high lag low revenue high frequency\n",
    "* low lag low revenue high frequency\n",
    "* high lag high revenue low frequency\n",
    "* low lag high revenue low frequency\n",
    "* high lag low revenue low frequency\n",
    "* low lag low revenue low frequency"
   ]
  },
  {
   "cell_type": "code",
   "execution_count": 34,
   "metadata": {},
   "outputs": [
    {
     "name": "stdout",
     "output_type": "stream",
     "text": [
      "51693 51693\n"
     ]
    }
   ],
   "source": [
    "from sklearn.cluster import KMeans\n",
    "\n",
    "kmeans = KMeans(n_clusters=8)\n",
    "a = kmeans.fit(customer_features)\n",
    "centroids = kmeans.cluster_centers_\n",
    "\n",
    "labels = kmeans.labels_\n",
    "\n",
    "print(len(customer_features), len(labels))"
   ]
  },
  {
   "cell_type": "code",
   "execution_count": 35,
   "metadata": {},
   "outputs": [],
   "source": [
    "train = customer_features\n",
    "train['target'] = labels\n",
    "target = 'target'\n",
    "IDcol = 'custno'"
   ]
  },
  {
   "cell_type": "markdown",
   "metadata": {},
   "source": [
    "#### Looking at class distribution"
   ]
  },
  {
   "cell_type": "code",
   "execution_count": 36,
   "metadata": {},
   "outputs": [
    {
     "data": {
      "text/plain": [
       "Counter({0: 28749, 7: 9021, 3: 6591, 1: 4222, 4: 7, 6: 72, 5: 2030, 2: 1001})"
      ]
     },
     "execution_count": 36,
     "metadata": {},
     "output_type": "execute_result"
    }
   ],
   "source": [
    "import collections\n",
    "\n",
    "counter=collections.Counter(labels)\n",
    "counter"
   ]
  },
  {
   "cell_type": "code",
   "execution_count": 37,
   "metadata": {},
   "outputs": [
    {
     "name": "stderr",
     "output_type": "stream",
     "text": [
      "C:\\ProgramData\\Anaconda3\\lib\\site-packages\\sklearn\\cross_validation.py:41: DeprecationWarning: This module was deprecated in version 0.18 in favor of the model_selection module into which all the refactored classes and functions are moved. Also note that the interface of the new CV iterators are different from that of this module. This module will be removed in 0.20.\n",
      "  \"This module will be removed in 0.20.\", DeprecationWarning)\n",
      "C:\\ProgramData\\Anaconda3\\lib\\site-packages\\sklearn\\grid_search.py:42: DeprecationWarning: This module was deprecated in version 0.18 in favor of the model_selection module into which all the refactored classes and functions are moved. This module will be removed in 0.20.\n",
      "  DeprecationWarning)\n"
     ]
    }
   ],
   "source": [
    "import xgboost as xgb\n",
    "from xgboost.sklearn import XGBClassifier\n",
    "from sklearn import cross_validation, metrics   #Additional scklearn functions\n",
    "from sklearn.grid_search import GridSearchCV   #Perforing grid search"
   ]
  },
  {
   "cell_type": "code",
   "execution_count": 44,
   "metadata": {},
   "outputs": [],
   "source": [
    "def modelfit(alg, dtrain, predictors,useTrainCV=True, cv_folds=5, early_stopping_rounds=50):\n",
    "    \n",
    "    if useTrainCV:\n",
    "        xgb_param = alg.get_xgb_params()\n",
    "        xgtrain = xgb.DMatrix(dtrain[predictors].values, label=dtrain['target'].values)\n",
    "        cvresult = xgb.cv(xgb_param, xgtrain, num_boost_round=alg.get_params()['n_estimators'], nfold=cv_folds,\n",
    "            metrics='mlogloss', early_stopping_rounds=early_stopping_rounds)\n",
    "        alg.set_params(n_estimators=cvresult.shape[0])\n",
    "    \n",
    "    #Fit the algorithm on the data\n",
    "    alg.fit(dtrain[predictors], dtrain['target'],eval_metric='mlogloss')\n",
    "        \n",
    "    #Predict training set:\n",
    "    dtrain_predictions = alg.predict(dtrain[predictors])\n",
    "    dtrain_predprob = alg.predict_proba(dtrain[predictors])[:,1]\n",
    "        \n",
    "    #Print model report:\n",
    "    print (\"\\nModel Report\")\n",
    "    print (\"Accuracy : %.4g\" % metrics.accuracy_score(dtrain['target'].values, dtrain_predictions))"
   ]
  },
  {
   "cell_type": "markdown",
   "metadata": {},
   "source": [
    "#### Model = XGBoost\n",
    "#### Evaluation Metric = Log loss function\n",
    "#### Optimize = softmax probability for each class (tries to make it 1 for correct class, 0 for everything else)\n",
    "#### Feature Importance = F score using algorithm"
   ]
  },
  {
   "cell_type": "code",
   "execution_count": 45,
   "metadata": {},
   "outputs": [
    {
     "name": "stderr",
     "output_type": "stream",
     "text": [
      "C:\\ProgramData\\Anaconda3\\lib\\site-packages\\sklearn\\preprocessing\\label.py:151: DeprecationWarning: The truth value of an empty array is ambiguous. Returning False, but in future this will result in an error. Use `array.size > 0` to check that an array is not empty.\n",
      "  if diff:\n"
     ]
    },
    {
     "name": "stdout",
     "output_type": "stream",
     "text": [
      "\n",
      "Model Report\n",
      "Accuracy : 1\n"
     ]
    }
   ],
   "source": [
    "predictors = [x for x in train.columns if x not in [target, IDcol]]\n",
    "\n",
    "xgb1 = XGBClassifier(\n",
    " learning_rate =0.1,\n",
    " n_estimators=1000,\n",
    " max_depth=5,\n",
    " min_child_weight=1,\n",
    " gamma=0,\n",
    " subsample=0.8,\n",
    " colsample_bytree=0.8,\n",
    " objective= 'multi:softprob',\n",
    " num_class = 8,\n",
    " eval_metric = 'mlogloss',\n",
    " nthread=4,\n",
    " scale_pos_weight=1,\n",
    " seed=27)\n",
    "modelfit(xgb1, train, predictors)"
   ]
  },
  {
   "cell_type": "code",
   "execution_count": 48,
   "metadata": {},
   "outputs": [
    {
     "data": {
      "image/png": "[encoded data removed]",
      "text/plain": [
       "<Figure size 432x288 with 1 Axes>"
      ]
     },
     "metadata": {},
     "output_type": "display_data"
    }
   ],
   "source": [
    "from xgboost import plot_importance\n",
    "from matplotlib import pyplot\n",
    "\n",
    "# plot feature importance\n",
    "plot_importance(xgb1)\n",
    "pyplot.show()"
   ]
  },
  {
   "cell_type": "markdown",
   "metadata": {},
   "source": [
    "#### Why XGBoost?\n",
    "\n",
    "* Classification works well with decision trees always\n",
    "* Has in built regularization for overfitting\n",
    "* Parallel processing\n",
    "* Handles missing values by itself\n",
    "* Handles class imbalances by itself\n",
    "* It is not a greedy algorithm like certain other decision tree methods\n",
    "* Has built in Cross validation\n",
    "* Can add on data and pick up from the previous run(kind of like epochs and gradient descent in deep learning)\n",
    "\n",
    "In contrast we could have used other decision trees(RF, standard bagging/boosting), SVMs (definitely don't outperform XGboost in terms of accuracy and speed) or deep learning methods (don't have enough data for this to be useful)"
   ]
  },
  {
   "cell_type": "markdown",
   "metadata": {},
   "source": [
    "#### We see here that we have gotten 100% accuracy from this model, if we had not - we would have tuned hyperparameters like gamma, learning_rate, depth, and estimators"
   ]
  },
  {
   "cell_type": "markdown",
   "metadata": {},
   "source": [
    "#### Recommendation engine\n",
    "* To target all 8 groups of users differently, based on their RECENCY, FREQUENCY, and MONETARY gains - RFM model for customer base\n",
    "* Combine it with additional insights on time of day, day of week, and week of year (TREND and SEASONALITY), more server bandwidth and more lightening offers for peak times\n",
    "* Offers to have better inventory turnover for low selling products, when demand goes down\n",
    "* Also, for each user, their most frequented category (but not bought), offers corresponding to that\n",
    "* If we had additional data on customers such as their demographics and interests, we could also introduce new schemes for each category\n",
    "* For window shoppers, (users with sessions but orders), introductory offers\n",
    "* Introduce Loyalty points for one time users"
   ]
  }
 ],
 "metadata": {
  "kernelspec": {
   "display_name": "Python 3",
   "language": "python",
   "name": "python3"
  },
  "language_info": {
   "codemirror_mode": {
    "name": "ipython",
    "version": 3
   },
   "file_extension": ".py",
   "mimetype": "text/x-python",
   "name": "python",
   "nbconvert_exporter": "python",
   "pygments_lexer": "ipython3",
   "version": "3.6.5"
  }
 },
 "nbformat": 4,
 "nbformat_minor": 2
}
